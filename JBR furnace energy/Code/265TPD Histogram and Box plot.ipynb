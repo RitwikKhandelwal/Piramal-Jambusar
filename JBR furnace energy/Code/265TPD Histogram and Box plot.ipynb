{
 "cells": [
  {
   "cell_type": "code",
   "execution_count": 1,
   "metadata": {},
   "outputs": [],
   "source": [
    "import pandas as pd\n",
    "import numpy as np\n",
    "import os\n",
    "import matplotlib.pyplot as plt\n",
    "import seaborn as sns"
   ]
  },
  {
   "cell_type": "code",
   "execution_count": 2,
   "metadata": {},
   "outputs": [],
   "source": [
    "df = pd.read_csv('flatfile_265TPD.csv')"
   ]
  },
  {
   "cell_type": "code",
   "execution_count": 3,
   "metadata": {},
   "outputs": [
    {
     "data": {
      "text/html": [
       "<div>\n",
       "<style scoped>\n",
       "    .dataframe tbody tr th:only-of-type {\n",
       "        vertical-align: middle;\n",
       "    }\n",
       "\n",
       "    .dataframe tbody tr th {\n",
       "        vertical-align: top;\n",
       "    }\n",
       "\n",
       "    .dataframe thead th {\n",
       "        text-align: right;\n",
       "    }\n",
       "</style>\n",
       "<table border=\"1\" class=\"dataframe\">\n",
       "  <thead>\n",
       "    <tr style=\"text-align: right;\">\n",
       "      <th></th>\n",
       "      <th>Date</th>\n",
       "      <th>MelterCombBlower_1_flow_rate</th>\n",
       "      <th>MelterCombBlower_2_flow_rate</th>\n",
       "      <th>ChimneyDraft_0_pressure</th>\n",
       "      <th>DistributorForeEarthAir_0_pressure</th>\n",
       "      <th>DistributorGas_0_flow_rate</th>\n",
       "      <th>DistributorGas_0_pressure</th>\n",
       "      <th>DistributorZonePyrometer_1_temperature</th>\n",
       "      <th>DistributorZonePyrometer_2_temperature</th>\n",
       "      <th>DistributorZonePyrometer_3_temperature</th>\n",
       "      <th>...</th>\n",
       "      <th>IsmHp_j2_pressure</th>\n",
       "      <th>IsmHp_j3a_pressure</th>\n",
       "      <th>Draw (TPD)</th>\n",
       "      <th>Cullet%</th>\n",
       "      <th>Melter Optical</th>\n",
       "      <th>Melter Bottom (T/C-207)</th>\n",
       "      <th>Throat Riser (T/C-208)</th>\n",
       "      <th>Dist Zone3</th>\n",
       "      <th>Melter SFC (KCal)</th>\n",
       "      <th>Seed Count</th>\n",
       "    </tr>\n",
       "  </thead>\n",
       "  <tbody>\n",
       "    <tr>\n",
       "      <th>0</th>\n",
       "      <td>01-10-2021</td>\n",
       "      <td>-30.507391</td>\n",
       "      <td>16487.71178</td>\n",
       "      <td>-49.911962</td>\n",
       "      <td>900.049874</td>\n",
       "      <td>78.400640</td>\n",
       "      <td>-7.600755</td>\n",
       "      <td>1250.754829</td>\n",
       "      <td>1274.823235</td>\n",
       "      <td>1302.199449</td>\n",
       "      <td>...</td>\n",
       "      <td>39.417150</td>\n",
       "      <td>39.912458</td>\n",
       "      <td>275</td>\n",
       "      <td>40</td>\n",
       "      <td>1594</td>\n",
       "      <td>1093</td>\n",
       "      <td>1296</td>\n",
       "      <td>1302</td>\n",
       "      <td>1067</td>\n",
       "      <td>45.0</td>\n",
       "    </tr>\n",
       "    <tr>\n",
       "      <th>1</th>\n",
       "      <td>02-10-2021</td>\n",
       "      <td>-27.461394</td>\n",
       "      <td>16296.43969</td>\n",
       "      <td>-49.954660</td>\n",
       "      <td>900.072751</td>\n",
       "      <td>75.991426</td>\n",
       "      <td>-7.570322</td>\n",
       "      <td>1252.186058</td>\n",
       "      <td>1275.184932</td>\n",
       "      <td>1304.704008</td>\n",
       "      <td>...</td>\n",
       "      <td>39.563286</td>\n",
       "      <td>39.989401</td>\n",
       "      <td>275</td>\n",
       "      <td>40</td>\n",
       "      <td>1595</td>\n",
       "      <td>1094</td>\n",
       "      <td>1299</td>\n",
       "      <td>1305</td>\n",
       "      <td>1073</td>\n",
       "      <td>45.0</td>\n",
       "    </tr>\n",
       "    <tr>\n",
       "      <th>2</th>\n",
       "      <td>03-10-2021</td>\n",
       "      <td>-27.324396</td>\n",
       "      <td>16257.36205</td>\n",
       "      <td>-49.930422</td>\n",
       "      <td>900.139719</td>\n",
       "      <td>76.243055</td>\n",
       "      <td>-7.560460</td>\n",
       "      <td>1249.744569</td>\n",
       "      <td>1268.934077</td>\n",
       "      <td>1303.540191</td>\n",
       "      <td>...</td>\n",
       "      <td>39.755841</td>\n",
       "      <td>39.966441</td>\n",
       "      <td>275</td>\n",
       "      <td>40</td>\n",
       "      <td>1594</td>\n",
       "      <td>1094</td>\n",
       "      <td>1298</td>\n",
       "      <td>1303</td>\n",
       "      <td>1043</td>\n",
       "      <td>45.0</td>\n",
       "    </tr>\n",
       "    <tr>\n",
       "      <th>3</th>\n",
       "      <td>04-10-2021</td>\n",
       "      <td>-30.348439</td>\n",
       "      <td>16424.30439</td>\n",
       "      <td>-49.836834</td>\n",
       "      <td>899.992319</td>\n",
       "      <td>79.262181</td>\n",
       "      <td>-7.588933</td>\n",
       "      <td>1250.841312</td>\n",
       "      <td>1269.698285</td>\n",
       "      <td>1301.559022</td>\n",
       "      <td>...</td>\n",
       "      <td>39.696308</td>\n",
       "      <td>39.874099</td>\n",
       "      <td>275</td>\n",
       "      <td>40</td>\n",
       "      <td>1594</td>\n",
       "      <td>1093</td>\n",
       "      <td>1296</td>\n",
       "      <td>1302</td>\n",
       "      <td>1068</td>\n",
       "      <td>46.0</td>\n",
       "    </tr>\n",
       "    <tr>\n",
       "      <th>4</th>\n",
       "      <td>05-10-2021</td>\n",
       "      <td>-30.739372</td>\n",
       "      <td>16533.39310</td>\n",
       "      <td>-49.673467</td>\n",
       "      <td>900.031961</td>\n",
       "      <td>79.961293</td>\n",
       "      <td>-7.554459</td>\n",
       "      <td>1248.922963</td>\n",
       "      <td>1268.267056</td>\n",
       "      <td>1300.325706</td>\n",
       "      <td>...</td>\n",
       "      <td>39.714394</td>\n",
       "      <td>39.640775</td>\n",
       "      <td>275</td>\n",
       "      <td>40</td>\n",
       "      <td>1594</td>\n",
       "      <td>1091</td>\n",
       "      <td>1294</td>\n",
       "      <td>1300</td>\n",
       "      <td>1050</td>\n",
       "      <td>45.0</td>\n",
       "    </tr>\n",
       "    <tr>\n",
       "      <th>...</th>\n",
       "      <td>...</td>\n",
       "      <td>...</td>\n",
       "      <td>...</td>\n",
       "      <td>...</td>\n",
       "      <td>...</td>\n",
       "      <td>...</td>\n",
       "      <td>...</td>\n",
       "      <td>...</td>\n",
       "      <td>...</td>\n",
       "      <td>...</td>\n",
       "      <td>...</td>\n",
       "      <td>...</td>\n",
       "      <td>...</td>\n",
       "      <td>...</td>\n",
       "      <td>...</td>\n",
       "      <td>...</td>\n",
       "      <td>...</td>\n",
       "      <td>...</td>\n",
       "      <td>...</td>\n",
       "      <td>...</td>\n",
       "      <td>...</td>\n",
       "    </tr>\n",
       "    <tr>\n",
       "      <th>251</th>\n",
       "      <td>09-06-2022</td>\n",
       "      <td>-51.835516</td>\n",
       "      <td>14701.72399</td>\n",
       "      <td>-49.684768</td>\n",
       "      <td>899.969801</td>\n",
       "      <td>69.564689</td>\n",
       "      <td>-7.594169</td>\n",
       "      <td>1239.545918</td>\n",
       "      <td>1276.602277</td>\n",
       "      <td>1312.610384</td>\n",
       "      <td>...</td>\n",
       "      <td>39.605746</td>\n",
       "      <td>40.268850</td>\n",
       "      <td>275</td>\n",
       "      <td>49</td>\n",
       "      <td>1590</td>\n",
       "      <td>1102</td>\n",
       "      <td>1313</td>\n",
       "      <td>1313</td>\n",
       "      <td>1037</td>\n",
       "      <td>45.0</td>\n",
       "    </tr>\n",
       "    <tr>\n",
       "      <th>252</th>\n",
       "      <td>10-06-2022</td>\n",
       "      <td>-48.758782</td>\n",
       "      <td>14737.78505</td>\n",
       "      <td>-49.568978</td>\n",
       "      <td>899.975521</td>\n",
       "      <td>69.746364</td>\n",
       "      <td>-7.575896</td>\n",
       "      <td>1239.738469</td>\n",
       "      <td>1276.327865</td>\n",
       "      <td>1313.295944</td>\n",
       "      <td>...</td>\n",
       "      <td>39.766038</td>\n",
       "      <td>40.292616</td>\n",
       "      <td>275</td>\n",
       "      <td>49</td>\n",
       "      <td>1589</td>\n",
       "      <td>1100</td>\n",
       "      <td>1313</td>\n",
       "      <td>1313</td>\n",
       "      <td>1035</td>\n",
       "      <td>45.0</td>\n",
       "    </tr>\n",
       "    <tr>\n",
       "      <th>253</th>\n",
       "      <td>11-06-2022</td>\n",
       "      <td>-50.254090</td>\n",
       "      <td>14723.16443</td>\n",
       "      <td>-49.429044</td>\n",
       "      <td>899.960035</td>\n",
       "      <td>69.180208</td>\n",
       "      <td>-7.615303</td>\n",
       "      <td>1240.167285</td>\n",
       "      <td>1277.510652</td>\n",
       "      <td>1313.351979</td>\n",
       "      <td>...</td>\n",
       "      <td>39.620711</td>\n",
       "      <td>40.172320</td>\n",
       "      <td>276</td>\n",
       "      <td>49</td>\n",
       "      <td>1589</td>\n",
       "      <td>1098</td>\n",
       "      <td>1315</td>\n",
       "      <td>1314</td>\n",
       "      <td>1037</td>\n",
       "      <td>46.0</td>\n",
       "    </tr>\n",
       "    <tr>\n",
       "      <th>254</th>\n",
       "      <td>12-06-2022</td>\n",
       "      <td>-44.225085</td>\n",
       "      <td>14714.22203</td>\n",
       "      <td>-49.618784</td>\n",
       "      <td>899.956951</td>\n",
       "      <td>68.719093</td>\n",
       "      <td>-7.709584</td>\n",
       "      <td>1239.994187</td>\n",
       "      <td>1277.205049</td>\n",
       "      <td>1313.254650</td>\n",
       "      <td>...</td>\n",
       "      <td>39.698862</td>\n",
       "      <td>40.240421</td>\n",
       "      <td>275</td>\n",
       "      <td>49</td>\n",
       "      <td>1588</td>\n",
       "      <td>1100</td>\n",
       "      <td>1315</td>\n",
       "      <td>1313</td>\n",
       "      <td>1026</td>\n",
       "      <td>44.0</td>\n",
       "    </tr>\n",
       "    <tr>\n",
       "      <th>255</th>\n",
       "      <td>13-06-2022</td>\n",
       "      <td>-34.505688</td>\n",
       "      <td>14771.87393</td>\n",
       "      <td>-49.735294</td>\n",
       "      <td>900.042319</td>\n",
       "      <td>68.271458</td>\n",
       "      <td>-7.671022</td>\n",
       "      <td>1240.446268</td>\n",
       "      <td>1277.296112</td>\n",
       "      <td>1313.493164</td>\n",
       "      <td>...</td>\n",
       "      <td>39.619175</td>\n",
       "      <td>40.196517</td>\n",
       "      <td>277</td>\n",
       "      <td>49</td>\n",
       "      <td>1590</td>\n",
       "      <td>1099</td>\n",
       "      <td>1316</td>\n",
       "      <td>1314</td>\n",
       "      <td>1024</td>\n",
       "      <td>45.0</td>\n",
       "    </tr>\n",
       "  </tbody>\n",
       "</table>\n",
       "<p>256 rows × 73 columns</p>\n",
       "</div>"
      ],
      "text/plain": [
       "           Date  MelterCombBlower_1_flow_rate  MelterCombBlower_2_flow_rate  \\\n",
       "0    01-10-2021                    -30.507391                   16487.71178   \n",
       "1    02-10-2021                    -27.461394                   16296.43969   \n",
       "2    03-10-2021                    -27.324396                   16257.36205   \n",
       "3    04-10-2021                    -30.348439                   16424.30439   \n",
       "4    05-10-2021                    -30.739372                   16533.39310   \n",
       "..          ...                           ...                           ...   \n",
       "251  09-06-2022                    -51.835516                   14701.72399   \n",
       "252  10-06-2022                    -48.758782                   14737.78505   \n",
       "253  11-06-2022                    -50.254090                   14723.16443   \n",
       "254  12-06-2022                    -44.225085                   14714.22203   \n",
       "255  13-06-2022                    -34.505688                   14771.87393   \n",
       "\n",
       "     ChimneyDraft_0_pressure  DistributorForeEarthAir_0_pressure  \\\n",
       "0                 -49.911962                          900.049874   \n",
       "1                 -49.954660                          900.072751   \n",
       "2                 -49.930422                          900.139719   \n",
       "3                 -49.836834                          899.992319   \n",
       "4                 -49.673467                          900.031961   \n",
       "..                       ...                                 ...   \n",
       "251               -49.684768                          899.969801   \n",
       "252               -49.568978                          899.975521   \n",
       "253               -49.429044                          899.960035   \n",
       "254               -49.618784                          899.956951   \n",
       "255               -49.735294                          900.042319   \n",
       "\n",
       "     DistributorGas_0_flow_rate  DistributorGas_0_pressure  \\\n",
       "0                     78.400640                  -7.600755   \n",
       "1                     75.991426                  -7.570322   \n",
       "2                     76.243055                  -7.560460   \n",
       "3                     79.262181                  -7.588933   \n",
       "4                     79.961293                  -7.554459   \n",
       "..                          ...                        ...   \n",
       "251                   69.564689                  -7.594169   \n",
       "252                   69.746364                  -7.575896   \n",
       "253                   69.180208                  -7.615303   \n",
       "254                   68.719093                  -7.709584   \n",
       "255                   68.271458                  -7.671022   \n",
       "\n",
       "     DistributorZonePyrometer_1_temperature  \\\n",
       "0                               1250.754829   \n",
       "1                               1252.186058   \n",
       "2                               1249.744569   \n",
       "3                               1250.841312   \n",
       "4                               1248.922963   \n",
       "..                                      ...   \n",
       "251                             1239.545918   \n",
       "252                             1239.738469   \n",
       "253                             1240.167285   \n",
       "254                             1239.994187   \n",
       "255                             1240.446268   \n",
       "\n",
       "     DistributorZonePyrometer_2_temperature  \\\n",
       "0                               1274.823235   \n",
       "1                               1275.184932   \n",
       "2                               1268.934077   \n",
       "3                               1269.698285   \n",
       "4                               1268.267056   \n",
       "..                                      ...   \n",
       "251                             1276.602277   \n",
       "252                             1276.327865   \n",
       "253                             1277.510652   \n",
       "254                             1277.205049   \n",
       "255                             1277.296112   \n",
       "\n",
       "     DistributorZonePyrometer_3_temperature  ...  IsmHp_j2_pressure  \\\n",
       "0                               1302.199449  ...          39.417150   \n",
       "1                               1304.704008  ...          39.563286   \n",
       "2                               1303.540191  ...          39.755841   \n",
       "3                               1301.559022  ...          39.696308   \n",
       "4                               1300.325706  ...          39.714394   \n",
       "..                                      ...  ...                ...   \n",
       "251                             1312.610384  ...          39.605746   \n",
       "252                             1313.295944  ...          39.766038   \n",
       "253                             1313.351979  ...          39.620711   \n",
       "254                             1313.254650  ...          39.698862   \n",
       "255                             1313.493164  ...          39.619175   \n",
       "\n",
       "     IsmHp_j3a_pressure  Draw (TPD)  Cullet%  Melter Optical  \\\n",
       "0             39.912458         275       40            1594   \n",
       "1             39.989401         275       40            1595   \n",
       "2             39.966441         275       40            1594   \n",
       "3             39.874099         275       40            1594   \n",
       "4             39.640775         275       40            1594   \n",
       "..                  ...         ...      ...             ...   \n",
       "251           40.268850         275       49            1590   \n",
       "252           40.292616         275       49            1589   \n",
       "253           40.172320         276       49            1589   \n",
       "254           40.240421         275       49            1588   \n",
       "255           40.196517         277       49            1590   \n",
       "\n",
       "     Melter Bottom (T/C-207)  Throat Riser (T/C-208)  Dist Zone3  \\\n",
       "0                       1093                    1296        1302   \n",
       "1                       1094                    1299        1305   \n",
       "2                       1094                    1298        1303   \n",
       "3                       1093                    1296        1302   \n",
       "4                       1091                    1294        1300   \n",
       "..                       ...                     ...         ...   \n",
       "251                     1102                    1313        1313   \n",
       "252                     1100                    1313        1313   \n",
       "253                     1098                    1315        1314   \n",
       "254                     1100                    1315        1313   \n",
       "255                     1099                    1316        1314   \n",
       "\n",
       "     Melter SFC (KCal)  Seed Count  \n",
       "0                 1067        45.0  \n",
       "1                 1073        45.0  \n",
       "2                 1043        45.0  \n",
       "3                 1068        46.0  \n",
       "4                 1050        45.0  \n",
       "..                 ...         ...  \n",
       "251               1037        45.0  \n",
       "252               1035        45.0  \n",
       "253               1037        46.0  \n",
       "254               1026        44.0  \n",
       "255               1024        45.0  \n",
       "\n",
       "[256 rows x 73 columns]"
      ]
     },
     "execution_count": 3,
     "metadata": {},
     "output_type": "execute_result"
    }
   ],
   "source": [
    "df"
   ]
  },
  {
   "cell_type": "code",
   "execution_count": 4,
   "metadata": {},
   "outputs": [
    {
     "data": {
      "text/plain": [
       "Index(['Date', 'MelterCombBlower_1_flow_rate', 'MelterCombBlower_2_flow_rate',\n",
       "       'ChimneyDraft_0_pressure', 'DistributorForeEarthAir_0_pressure',\n",
       "       'DistributorGas_0_flow_rate', 'DistributorGas_0_pressure',\n",
       "       'DistributorZonePyrometer_1_temperature',\n",
       "       'DistributorZonePyrometer_2_temperature',\n",
       "       'DistributorZonePyrometer_3_temperature',\n",
       "       'DistributorZonePyrometer_4_temperature',\n",
       "       'DistributorZonePyrometer_5_temperature',\n",
       "       'DistributorZonePyrometer_6_temperature',\n",
       "       'DistributorZonePyrometer_7_temperature', 'ForeEarthGas_0_flow_rate',\n",
       "       'ForeEarthGas_0_pressure', 'Zone1Pyrometer1_j0_temperature',\n",
       "       'Zone1Pyrometer2_j0_temperature', 'Zone2Pyrometer1_j0_temperature',\n",
       "       'Zone2Pyrometer2_j0_temperature', 'Zone3Pyrometer_j0_temperature',\n",
       "       'ZoneCondiPyrometer_j0_temperature', 'Zone1PyrometerL_j1_temperature',\n",
       "       'Zone1PyrometerR_j1_temperature', 'Zone2Pyrometer_j1_temperature',\n",
       "       'ZoneCondiPyrometer_j1_temperature', 'Zone1PyrometerL_j2_temperature',\n",
       "       'Zone1PyrometerR_j2_temperature', 'Zone2Pyrometer_j2_temperature',\n",
       "       'ZoneCondiPyrometer_j2_temperature', 'FHJ3TE438AI110',\n",
       "       'FHJ3Z1TE431LAI65', 'Zone2Pyrometer_j3_temperature',\n",
       "       'Zone3Pyrometer_j3_temperature', 'Zone4Pyrometer_j3_temperature',\n",
       "       'Zone5Pyrometer_j3_temperature', 'Zone6Pyrometer_j3_temperature',\n",
       "       'Zone9Pyrometer_j3_temperature', 'FHJ4TE4410AI115', 'FHJ4TE445AI111',\n",
       "       'FHJ4TE446AI113', 'FHJ4TE447AI112', 'FHJ4TE449AI114',\n",
       "       'Zone1Pyrometer_j4_temperature', 'FHJ4Z1TE442AI99', 'FHJ4Z1TE443AI910',\n",
       "       'FHJ4Z1TE444AI911', 'Zone1PyrometerL_j5_temperature',\n",
       "       'Zone1PyrometerR_j5_temperature', 'Zone2Pyrometer_j5_temperature',\n",
       "       'ZoneCondiPyrometer_j5_temperature', 'Zone1PyrometerL_j6_temperature',\n",
       "       'Zone1PyrometerR_j6_temperature', 'Zone2PyrometerL_j6_temperature',\n",
       "       'Zone2PyrometerR_j6_temperature', 'Zone3Pyrometer_j6_temperature',\n",
       "       'ZoneCondiPyrometer_j6_temperature', 'MelterFurnaceOil_0_flow_rate',\n",
       "       'ChimneyFurnaceDamper_0_percent', 'MelterFurnace_0_length',\n",
       "       'DistributorGlassLevel_0_length', 'IsmHp_j0_pressure',\n",
       "       'IsmHp_j1_pressure', 'IsmHp_j2_pressure', 'IsmHp_j3a_pressure',\n",
       "       'Draw (TPD)', 'Cullet%', 'Melter Optical', 'Melter Bottom (T/C-207)',\n",
       "       'Throat Riser (T/C-208)', 'Dist Zone3', 'Melter SFC (KCal)',\n",
       "       'Seed Count'],\n",
       "      dtype='object')"
      ]
     },
     "execution_count": 4,
     "metadata": {},
     "output_type": "execute_result"
    }
   ],
   "source": [
    "df.columns"
   ]
  },
  {
   "cell_type": "code",
   "execution_count": 7,
   "metadata": {},
   "outputs": [
    {
     "data": {
      "text/plain": [
       "<Figure size 432x288 with 0 Axes>"
      ]
     },
     "metadata": {},
     "output_type": "display_data"
    }
   ],
   "source": [
    "# Histogram\n",
    "li = ['Draw (TPD)', 'Cullet%', 'Melter Optical', 'Melter Bottom (T/C-207)','Throat Riser (T/C-208)', 'Dist Zone3','DistributorZonePyrometer_6_temperature','Zone1Pyrometer_j4_temperature','Zone1PyrometerL_j6_temperature']\n",
    "for elem in li:\n",
    "    arr = df[elem].to_numpy()\n",
    "    sns.histplot(arr)\n",
    "    elem = elem.replace('/','')\n",
    "    elem = elem.replace('-','')\n",
    "    elem = elem.replace('(','')\n",
    "    elem = elem.replace(')','')\n",
    "    plt.savefig('plots/hist/'+elem)\n",
    "    plt.clf()"
   ]
  },
  {
   "cell_type": "markdown",
   "metadata": {},
   "source": [
    "# Box Plots"
   ]
  },
  {
   "cell_type": "markdown",
   "metadata": {},
   "source": [
    "## Box plots for Common data"
   ]
  },
  {
   "cell_type": "code",
   "execution_count": 8,
   "metadata": {},
   "outputs": [
    {
     "data": {
      "text/plain": [
       "Index(['Date', 'MelterCombBlower_1_flow_rate', 'MelterCombBlower_2_flow_rate',\n",
       "       'ChimneyDraft_0_pressure', 'DistributorForeEarthAir_0_pressure',\n",
       "       'DistributorGas_0_flow_rate', 'DistributorGas_0_pressure',\n",
       "       'DistributorZonePyrometer_1_temperature',\n",
       "       'DistributorZonePyrometer_2_temperature',\n",
       "       'DistributorZonePyrometer_3_temperature',\n",
       "       'DistributorZonePyrometer_4_temperature',\n",
       "       'DistributorZonePyrometer_5_temperature',\n",
       "       'DistributorZonePyrometer_6_temperature',\n",
       "       'DistributorZonePyrometer_7_temperature', 'ForeEarthGas_0_flow_rate',\n",
       "       'ForeEarthGas_0_pressure', 'Zone1Pyrometer1_j0_temperature',\n",
       "       'Zone1Pyrometer2_j0_temperature', 'Zone2Pyrometer1_j0_temperature',\n",
       "       'Zone2Pyrometer2_j0_temperature', 'Zone3Pyrometer_j0_temperature',\n",
       "       'ZoneCondiPyrometer_j0_temperature', 'Zone1PyrometerL_j1_temperature',\n",
       "       'Zone1PyrometerR_j1_temperature', 'Zone2Pyrometer_j1_temperature',\n",
       "       'ZoneCondiPyrometer_j1_temperature', 'Zone1PyrometerL_j2_temperature',\n",
       "       'Zone1PyrometerR_j2_temperature', 'Zone2Pyrometer_j2_temperature',\n",
       "       'ZoneCondiPyrometer_j2_temperature', 'FHJ3TE438AI110',\n",
       "       'FHJ3Z1TE431LAI65', 'Zone2Pyrometer_j3_temperature',\n",
       "       'Zone3Pyrometer_j3_temperature', 'Zone4Pyrometer_j3_temperature',\n",
       "       'Zone5Pyrometer_j3_temperature', 'Zone6Pyrometer_j3_temperature',\n",
       "       'Zone9Pyrometer_j3_temperature', 'FHJ4TE4410AI115', 'FHJ4TE445AI111',\n",
       "       'FHJ4TE446AI113', 'FHJ4TE447AI112', 'FHJ4TE449AI114',\n",
       "       'Zone1Pyrometer_j4_temperature', 'FHJ4Z1TE442AI99', 'FHJ4Z1TE443AI910',\n",
       "       'FHJ4Z1TE444AI911', 'Zone1PyrometerL_j5_temperature',\n",
       "       'Zone1PyrometerR_j5_temperature', 'Zone2Pyrometer_j5_temperature',\n",
       "       'ZoneCondiPyrometer_j5_temperature', 'Zone1PyrometerL_j6_temperature',\n",
       "       'Zone1PyrometerR_j6_temperature', 'Zone2PyrometerL_j6_temperature',\n",
       "       'Zone2PyrometerR_j6_temperature', 'Zone3Pyrometer_j6_temperature',\n",
       "       'ZoneCondiPyrometer_j6_temperature', 'MelterFurnaceOil_0_flow_rate',\n",
       "       'ChimneyFurnaceDamper_0_percent', 'MelterFurnace_0_length',\n",
       "       'DistributorGlassLevel_0_length', 'IsmHp_j0_pressure',\n",
       "       'IsmHp_j1_pressure', 'IsmHp_j2_pressure', 'IsmHp_j3a_pressure',\n",
       "       'Draw (TPD)', 'Cullet%', 'Melter Optical', 'Melter Bottom (T/C-207)',\n",
       "       'Throat Riser (T/C-208)', 'Dist Zone3', 'Melter SFC (KCal)',\n",
       "       'Seed Count'],\n",
       "      dtype='object')"
      ]
     },
     "execution_count": 8,
     "metadata": {},
     "output_type": "execute_result"
    }
   ],
   "source": [
    "df5 = pd.read_csv('flatfile_265TPD.csv')\n",
    "df5.columns"
   ]
  },
  {
   "cell_type": "code",
   "execution_count": 9,
   "metadata": {},
   "outputs": [
    {
     "data": {
      "text/plain": [
       "count     256.000000\n",
       "mean     1078.519531\n",
       "std        87.755853\n",
       "min       838.000000\n",
       "25%      1026.000000\n",
       "50%      1045.000000\n",
       "75%      1073.000000\n",
       "max      1335.000000\n",
       "Name: Melter SFC (KCal), dtype: float64"
      ]
     },
     "execution_count": 9,
     "metadata": {},
     "output_type": "execute_result"
    }
   ],
   "source": [
    "df5.describe()['Melter SFC (KCal)']"
   ]
  },
  {
   "cell_type": "code",
   "execution_count": 10,
   "metadata": {},
   "outputs": [],
   "source": [
    "df5[\"Type\"] = \"\"*len(df5)\n",
    "c1 = df5.index[(df5['Melter SFC (KCal)']>=838) & (df5['Melter SFC (KCal)']<=1026)]\n",
    "c2 = df5.index[(df5['Melter SFC (KCal)']>1026) & (df5['Melter SFC (KCal)']<=1045)]\n",
    "c3 = df5.index[(df5['Melter SFC (KCal)']>1045) & (df5['Melter SFC (KCal)'] <=1073)]\n",
    "c4 = df5.index[(df5['Melter SFC (KCal)']> 1073) & (df5['Melter SFC (KCal)'] <= 1335)]\n",
    "c1, c2, c3, c4\n",
    "df5.loc[c1, \"Type\"] = \"[838, 1026]\"\n",
    "df5.loc[c2, \"Type\"] = \"[1026, 1045]\"\n",
    "df5.loc[c3, \"Type\"] = \"[1045, 1073]\"\n",
    "df5.loc[c4, \"Type\"] = \"[1073, 1335]\"\n",
    "df51 = df5.rename(columns = {\"Type\":\"SFC_Metric\"})"
   ]
  },
  {
   "cell_type": "code",
   "execution_count": 12,
   "metadata": {},
   "outputs": [
    {
     "data": {
      "image/png": "[encoded data removed]",
      "text/plain": [
       "<Figure size 432x288 with 1 Axes>"
      ]
     },
     "metadata": {
      "needs_background": "light"
     },
     "output_type": "display_data"
    },
    {
     "data": {
      "image/png": "[encoded data removed]",
      "text/plain": [
       "<Figure size 432x288 with 1 Axes>"
      ]
     },
     "metadata": {
      "needs_background": "light"
     },
     "output_type": "display_data"
    },
    {
     "data": {
      "image/png": "[encoded data removed]",
      "text/plain": [
       "<Figure size 432x288 with 1 Axes>"
      ]
     },
     "metadata": {
      "needs_background": "light"
     },
     "output_type": "display_data"
    },
    {
     "data": {
      "image/png": "[encoded data removed]",
      "text/plain": [
       "<Figure size 432x288 with 1 Axes>"
      ]
     },
     "metadata": {
      "needs_background": "light"
     },
     "output_type": "display_data"
    },
    {
     "data": {
      "image/png": "[encoded data removed]",
      "text/plain": [
       "<Figure size 432x288 with 1 Axes>"
      ]
     },
     "metadata": {
      "needs_background": "light"
     },
     "output_type": "display_data"
    },
    {
     "data": {
      "image/png": "[encoded data removed]",
      "text/plain": [
       "<Figure size 432x288 with 1 Axes>"
      ]
     },
     "metadata": {
      "needs_background": "light"
     },
     "output_type": "display_data"
    },
    {
     "data": {
      "image/png": "[encoded data removed]",
      "text/plain": [
       "<Figure size 432x288 with 1 Axes>"
      ]
     },
     "metadata": {
      "needs_background": "light"
     },
     "output_type": "display_data"
    },
    {
     "data": {
      "image/png": "[encoded data removed]",
      "text/plain": [
       "<Figure size 432x288 with 1 Axes>"
      ]
     },
     "metadata": {
      "needs_background": "light"
     },
     "output_type": "display_data"
    },
    {
     "data": {
      "image/png": "[encoded data removed]",
      "text/plain": [
       "<Figure size 432x288 with 1 Axes>"
      ]
     },
     "metadata": {
      "needs_background": "light"
     },
     "output_type": "display_data"
    }
   ],
   "source": [
    "li = ['Draw (TPD)', 'Cullet%', 'Melter Optical', 'Melter Bottom (T/C-207)','Throat Riser (T/C-208)', 'Dist Zone3','DistributorZonePyrometer_6_temperature','Zone1Pyrometer_j4_temperature','Zone1PyrometerL_j6_temperature']\n",
    "for elem in li:\n",
    "    sns.boxplot(x=\"SFC_Metric\",\n",
    "                y=elem,\n",
    "                data=df51, order=[\"[838, 1026]\", \"[1026, 1045]\", \"[1045, 1073]\", \"[1073, 1335]\"])\n",
    "    elem = elem.replace('/','')\n",
    "    elem = elem.replace('-','')\n",
    "    elem = elem.replace('(','')\n",
    "    elem = elem.replace(')','')\n",
    "    plt.savefig('plots/box/'+elem)\n",
    "    plt.show()"
   ]
  },
  {
   "cell_type": "code",
   "execution_count": null,
   "metadata": {},
   "outputs": [],
   "source": []
  },
  {
   "cell_type": "code",
   "execution_count": null,
   "metadata": {},
   "outputs": [],
   "source": []
  },
  {
   "cell_type": "code",
   "execution_count": null,
   "metadata": {},
   "outputs": [],
   "source": []
  }
 ],
 "metadata": {
  "kernelspec": {
   "display_name": "Python 3",
   "language": "python",
   "name": "python3"
  },
  "language_info": {
   "codemirror_mode": {
    "name": "ipython",
    "version": 3
   },
   "file_extension": ".py",
   "mimetype": "text/x-python",
   "name": "python",
   "nbconvert_exporter": "python",
   "pygments_lexer": "ipython3",
   "version": "3.7.6"
  }
 },
 "nbformat": 4,
 "nbformat_minor": 4
}
