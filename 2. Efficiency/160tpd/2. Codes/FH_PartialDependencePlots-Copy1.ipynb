{
 "cells": [
  {
   "cell_type": "code",
   "execution_count": 2,
   "metadata": {},
   "outputs": [],
   "source": [
    "import pandas as pd\n",
    "import numpy as np\n",
    "from datetime import datetime  \n",
    "from datetime import timedelta\n",
    "import os\n",
    "import warnings\n",
    "warnings.filterwarnings(\"ignore\")\n",
    "import pickle\n",
    "import matplotlib.pyplot as plt\n",
    "from sklearn.inspection import plot_partial_dependence\n",
    "from sklearn.inspection import partial_dependence\n",
    "from sklearn.ensemble import RandomForestRegressor\n",
    "from matplotlib.backends.backend_pdf import PdfPages"
   ]
  },
  {
   "cell_type": "markdown",
   "metadata": {},
   "source": [
    "## Please use respective features for each line from the excel shared"
   ]
  },
  {
   "cell_type": "code",
   "execution_count": null,
   "metadata": {},
   "outputs": [],
   "source": [
    "features = ['Prod Weight', 'Process', 'Narrow Neck', 'Body Shape Description', 'Height', 'OFC',\n",
    "            'Furnace_Draw', 'TE204TC22', 'TE207TC25', 'DISTTE313AI74', 'Density', 'ISBJ1PT101AI47',\n",
    "            'DISTTE317AI78', 'FHJ1Z1TE411RTAI58', 'FHJ1Z2TE412AI59', 'FHJ1Z3TE413AI510', 'J01_Draw']"
   ]
  },
  {
   "cell_type": "markdown",
   "metadata": {},
   "source": [
    "## Please use respective feature tuples for each line from the txt file shared"
   ]
  },
  {
   "cell_type": "code",
   "execution_count": 1,
   "metadata": {},
   "outputs": [],
   "source": [
    "feature_tuples = [('J01_Draw' , 'FHJ1Z1TE411RTAI58'),\n",
    "                  ('DISTTE317AI78' , 'FHJ1Z1TE411RTAI58'),\n",
    "                  ('J01_Draw' , 'FHJ1Z2TE412AI59'),\n",
    "                  ('DISTTE317AI78' , 'FHJ1Z2TE412AI59'),\n",
    "                  ('J01_Draw' , 'FHJ1Z3TE413AI510'),\n",
    "                  ('DISTTE317AI78' , 'FHJ1Z3TE413AI510')]\n",
    "\n"
   ]
  },
  {
   "cell_type": "code",
   "execution_count": 4,
   "metadata": {},
   "outputs": [
    {
     "name": "stdout",
     "output_type": "stream",
     "text": [
      "[('J01_Draw', 'FHJ1Z1TE411RTAI58')]\n",
      "[('DISTTE317AI78', 'FHJ1Z1TE411RTAI58')]\n",
      "[('J01_Draw', 'FHJ1Z2TE412AI59')]\n",
      "[('DISTTE317AI78', 'FHJ1Z2TE412AI59')]\n",
      "[('J01_Draw', 'FHJ1Z3TE413AI510')]\n",
      "[('DISTTE317AI78', 'FHJ1Z3TE413AI510')]\n"
     ]
    }
   ],
   "source": [
    "for (k,v) in enumerate(feature_tuples):\n",
    "    print([v])"
   ]
  },
  {
   "cell_type": "markdown",
   "metadata": {},
   "source": [
    "## Please use respective feature dict for each line from the txt file shared"
   ]
  },
  {
   "cell_type": "code",
   "execution_count": null,
   "metadata": {},
   "outputs": [],
   "source": [
    "feature_dict = {'J16_Draw' : 'Line Draw', 'FH15PYROZ2AI58' : 'FH Zone 2 Temp', 'FH15PYROZ6AI511' : 'FH Zone 6 Temp',\n",
    "               'FH15PYROZ7AI60' : 'FH Zone 7 Temp'}"
   ]
  },
  {
   "cell_type": "code",
   "execution_count": null,
   "metadata": {},
   "outputs": [],
   "source": [
    "# def jobs_upcoming(job_plan,LineName):\n",
    "    \n",
    "#     \"\"\"\n",
    "#     This function load the job plan data from csv format and select jobs for given line\n",
    "\n",
    "#     Parameters\n",
    "#     ----------\n",
    "    \n",
    "#     job_plan: pandas df containing details of upcoming jobs\n",
    "    \n",
    "#     LineName: string - Production Line Name; First letter should be capitalized followed by a number, For instance - J1\n",
    "    \n",
    "#     Returns\n",
    "#     -------\n",
    "#     df: pd.DataFrame - DataFrame with details of upcoming jobs for selected LineName\n",
    "#     \"\"\"\n",
    "\n",
    "#     job_plan = job_plan[job_plan['LineName'] == LineName]\n",
    "    \n",
    "#     jobs_upcoming = job_plan[job_plan['Status'] == 'YetToStart']\n",
    "    \n",
    "#     jobs_upcoming['LineDraw'] = round(jobs_upcoming['GobWeight']*jobs_upcoming['ISMachineActualSpeed']*1440/10^6, 2)\n",
    "    \n",
    "#     jobs_upcoming = jobs_upcoming[['LineName', 'Name', 'ProductionOrderNumber', 'FGCode', 'NumberOfSection', 'NumberOfGob', 'LineDraw']]\n",
    "    \n",
    "#     jobs_upcoming.rename(columns={'Name': 'Material Description'}, inplace=True)\n",
    "    \n",
    "#     return jobs_upcoming"
   ]
  },
  {
   "cell_type": "code",
   "execution_count": null,
   "metadata": {},
   "outputs": [],
   "source": [
    "feature_tuples = [('J01_Draw' , 'FHJ1Z1TE411RTAI58'),\n",
    "                  ('DISTTE317AI78' , 'FHJ1Z1TE411RTAI58'),\n",
    "                  ('J01_Draw' , 'FHJ1Z2TE412AI59'),\n",
    "                  ('DISTTE317AI78' , 'FHJ1Z2TE412AI59'),\n",
    "                  ('J01_Draw' , 'FHJ1Z3TE413AI510'),\n",
    "                  ('DISTTE317AI78' , 'FHJ1Z3TE413AI510')]"
   ]
  },
  {
   "cell_type": "code",
   "execution_count": null,
   "metadata": {},
   "outputs": [],
   "source": [
    "def pdp_plot(model_pickle_path, data_plot_path, jobs_upcoming, LineName, features, feature_tuples, feature_dict, out_path):\n",
    "    \n",
    "    \"\"\"\n",
    "    This function creates partial dependence plots for upcoming jobs\n",
    "\n",
    "    Parameters\n",
    "    ----------\n",
    "    model_pickle_path : path of model pickle file\n",
    "    \n",
    "    data_plot_path: path of data selected for plot (output of data selection pipeline)\n",
    "    \n",
    "    jobs_upcoming: dataframe containing upcoming jobs in the production line\n",
    "    \n",
    "    LineName: string - Production Line Name; First letter should be capitalized followed by number, For instance - J1\n",
    "    \n",
    "    features: list of independent features considered for the model\n",
    "    \n",
    "    feature_tuples: list of tuples for which plots are created\n",
    "    \n",
    "    feature_dict: dictionary containing description for variables plotted\n",
    "    \n",
    "    out_path: path of directory where plots will be saved\n",
    "    \n",
    "    Returns\n",
    "    -------\n",
    "    pdf_plot : 1 pdf file for each upcoming job\n",
    "    \"\"\"\n",
    "    \n",
    "    file = open(model_pickle_path,'rb')\n",
    "    \n",
    "    model = pickle.load(file)\n",
    "    \n",
    "    data_plot = pd.read_csv(data_plot_path)\n",
    "    \n",
    "    for i in len(jobs_upcoming.index):\n",
    "        \n",
    "        df_plot = data_plot[data_plot['Material Description'] == jobs_upcoming['Material Description'][i]]\n",
    "        \n",
    "        if len(df_plot.index) == 0:\n",
    "            pass\n",
    "        else:\n",
    "        pdf = PdfPages(out_path)\n",
    "        for k,v in enumerate(feature_tuples):\n",
    "            plot_partial_dependence(model, df_plot[features], [v], n_jobs=-1, grid_resolution=18)\n",
    "            fig = plt.gcf()\n",
    "            plt.xlabel(feature_dict.get(v[0]), fontsize=12)\n",
    "            plt.ylabel(feature_dict.get(v[1]), fontsize=12)\n",
    "            pdf.savefig(fig)\n",
    "            plt.close()\n",
    "        pdf.close()"
   ]
  }
 ],
 "metadata": {
  "kernelspec": {
   "display_name": "Python 3",
   "language": "python",
   "name": "python3"
  },
  "language_info": {
   "codemirror_mode": {
    "name": "ipython",
    "version": 3
   },
   "file_extension": ".py",
   "mimetype": "text/x-python",
   "name": "python",
   "nbconvert_exporter": "python",
   "pygments_lexer": "ipython3",
   "version": "3.7.6"
  }
 },
 "nbformat": 4,
 "nbformat_minor": 2
}
