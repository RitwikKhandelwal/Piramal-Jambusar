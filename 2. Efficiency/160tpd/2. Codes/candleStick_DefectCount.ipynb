{
 "cells": [
  {
   "cell_type": "code",
   "execution_count": 2,
   "metadata": {},
   "outputs": [],
   "source": [
    "import matplotlib.pyplot as plt\n",
    "# !pip install mpl_finance\n",
    "from mpl_finance import candlestick_ohlc\n",
    "import pandas as pd\n",
    "import matplotlib.dates as mpl_dates\n"
   ]
  },
  {
   "cell_type": "code",
   "execution_count": 3,
   "metadata": {},
   "outputs": [],
   "source": [
    "df = pd.read_csv(\"ce_setout_final_pruned_R.csv\")"
   ]
  },
  {
   "cell_type": "code",
   "execution_count": 41,
   "metadata": {},
   "outputs": [],
   "source": [
    "df[\"Perc\"] = df[\"DefectCountSum\"]*100/df[\"SampleSizeSum\"]"
   ]
  },
  {
   "cell_type": "code",
   "execution_count": 5,
   "metadata": {},
   "outputs": [],
   "source": [
    "df[\"TimeStamp\"] = pd.to_datetime(df[\"TimeStamp\"])"
   ]
  },
  {
   "cell_type": "code",
   "execution_count": 6,
   "metadata": {},
   "outputs": [],
   "source": [
    "df1 = df.groupby(\"LineName\")[\"TimeStamp\"].idxmin()\n"
   ]
  },
  {
   "cell_type": "code",
   "execution_count": 13,
   "metadata": {},
   "outputs": [
    {
     "data": {
      "text/plain": [
       "{'J13': 28,\n",
       " 'J14': 8,\n",
       " 'J15': 7,\n",
       " 'J16': 0,\n",
       " 'J17': 2,\n",
       " 'J18': 3,\n",
       " 'J19': 1,\n",
       " 'J20': 4}"
      ]
     },
     "execution_count": 13,
     "metadata": {},
     "output_type": "execute_result"
    }
   ],
   "source": [
    "d = dict(df1)\n",
    "d"
   ]
  },
  {
   "cell_type": "code",
   "execution_count": 47,
   "metadata": {},
   "outputs": [],
   "source": [
    "open_ = []\n",
    "close = []\n",
    "max_ = []\n",
    "min_ = []\n",
    "\n",
    "for k, v in d.items():\n",
    "    open_.append(df[\"Perc\"][v])"
   ]
  },
  {
   "cell_type": "code",
   "execution_count": 48,
   "metadata": {},
   "outputs": [
    {
     "data": {
      "text/plain": [
       "[5.0, 1.167, 1.538, 1.231, 1.333, 1.278, 1.333, 4.889]"
      ]
     },
     "execution_count": 48,
     "metadata": {},
     "output_type": "execute_result"
    }
   ],
   "source": [
    "open_ = [round(elem, 3) for elem in open_]\n",
    "open_"
   ]
  },
  {
   "cell_type": "code",
   "execution_count": 49,
   "metadata": {},
   "outputs": [],
   "source": [
    "df1 = df.groupby(\"LineName\")[\"TimeStamp\"].idxmax()\n"
   ]
  },
  {
   "cell_type": "code",
   "execution_count": 50,
   "metadata": {},
   "outputs": [],
   "source": [
    "for k, v in df1.items():\n",
    "    close.append(df[\"Perc\"][v])\n"
   ]
  },
  {
   "cell_type": "code",
   "execution_count": 51,
   "metadata": {},
   "outputs": [
    {
     "data": {
      "text/plain": [
       "[3.5, 1.059, 1.455, 1.2, 1.267, 1.1, 1.125, 3.714]"
      ]
     },
     "execution_count": 51,
     "metadata": {},
     "output_type": "execute_result"
    }
   ],
   "source": [
    "close = [round(elem,3) for elem in close]\n",
    "close"
   ]
  },
  {
   "cell_type": "code",
   "execution_count": 53,
   "metadata": {},
   "outputs": [
    {
     "data": {
      "text/plain": [
       "[26.667, 2.818, 2.8, 2.8, 2.545, 3.429, 2.667, 13.0]"
      ]
     },
     "execution_count": 53,
     "metadata": {},
     "output_type": "execute_result"
    }
   ],
   "source": []
  },
  {
   "cell_type": "code",
   "execution_count": 52,
   "metadata": {},
   "outputs": [
    {
     "data": {
      "text/plain": [
       "[26.667, 2.818, 2.8, 2.8, 2.545, 3.429, 2.667, 13.0]"
      ]
     },
     "execution_count": 52,
     "metadata": {},
     "output_type": "execute_result"
    }
   ],
   "source": [
    "df1 = df.groupby(\"LineName\")[\"Perc\"].max()\n",
    "for k, v in df1.items():\n",
    "    max_.append(round(v,3))\n",
    "max_"
   ]
  },
  {
   "cell_type": "code",
   "execution_count": 54,
   "metadata": {},
   "outputs": [
    {
     "data": {
      "text/plain": [
       "[0.0, 1.0, 1.0, 1.0, 1.0, 1.0, 1.0, 0.2]"
      ]
     },
     "execution_count": 54,
     "metadata": {},
     "output_type": "execute_result"
    }
   ],
   "source": [
    "df1 = df.groupby(\"LineName\")[\"Perc\"].min()\n",
    "for k, v in df1.items():\n",
    "    min_.append(round(v,3))\n",
    "min_\n"
   ]
  },
  {
   "cell_type": "code",
   "execution_count": 55,
   "metadata": {},
   "outputs": [
    {
     "data": {
      "text/plain": [
       "([5.0, 1.167, 1.538, 1.231, 1.333, 1.278, 1.333, 4.889],\n",
       " [3.5, 1.059, 1.455, 1.2, 1.267, 1.1, 1.125, 3.714],\n",
       " [26.667, 2.818, 2.8, 2.8, 2.545, 3.429, 2.667, 13.0],\n",
       " [0.0, 1.0, 1.0, 1.0, 1.0, 1.0, 1.0, 0.2])"
      ]
     },
     "execution_count": 55,
     "metadata": {},
     "output_type": "execute_result"
    }
   ],
   "source": [
    "open_, close, max_, min_"
   ]
  },
  {
   "cell_type": "code",
   "execution_count": 56,
   "metadata": {},
   "outputs": [],
   "source": [
    "lines = list(df[\"LineName\"].unique())\n",
    "# lines = lines.sort()\n",
    "lines.sort()"
   ]
  },
  {
   "cell_type": "code",
   "execution_count": 57,
   "metadata": {},
   "outputs": [
    {
     "data": {
      "text/plain": [
       "['J13', 'J14', 'J15', 'J16', 'J17', 'J18', 'J19', 'J20']"
      ]
     },
     "execution_count": 57,
     "metadata": {},
     "output_type": "execute_result"
    }
   ],
   "source": [
    "lines"
   ]
  },
  {
   "cell_type": "code",
   "execution_count": 59,
   "metadata": {},
   "outputs": [
    {
     "data": {
      "image/png": "[encoded data removed]",
      "text/plain": [
       "<Figure size 432x288 with 1 Axes>"
      ]
     },
     "metadata": {
      "needs_background": "light"
     },
     "output_type": "display_data"
    }
   ],
   "source": [
    "stock_prices = pd.DataFrame({'open': open_,\n",
    "                             'close': close,\n",
    "                             'high': max_,\n",
    "                             'low': min_},\n",
    "                            index= lines)\n",
    "\n",
    "\n",
    "plt.figure()\n",
    "\n",
    "# \"up\" dataframe will store the stock_prices\n",
    "# when the closing stock price is greater\n",
    "# than or equal to the opening stock prices\n",
    "up = stock_prices[stock_prices.close >= stock_prices.open]\n",
    "\n",
    "# \"down\" dataframe will store the stock_prices\n",
    "# when the closing stock price is\n",
    "# lesser than the opening stock prices\n",
    "down = stock_prices[stock_prices.close < stock_prices.open]\n",
    "\n",
    "# When the stock prices have decreased, then it\n",
    "# will be represented by blue color candlestick\n",
    "col1 = 'blue'\n",
    "\n",
    "# When the stock prices have increased, then it\n",
    "# will be represented by green color candlestick\n",
    "col2 = 'green'\n",
    "\n",
    "# Setting width of candlestick elements\n",
    "width = .3\n",
    "width2 = .03\n",
    "\n",
    "# Plotting up prices of the stock\n",
    "plt.bar(up.index, up.close-up.open, width, bottom=up.open, color=col1)\n",
    "plt.bar(up.index, up.high-up.close, width2, bottom=up.close, color=col1)\n",
    "plt.bar(up.index, up.low-up.open, width2, bottom=up.open, color=col1)\n",
    "\n",
    "# Plotting down prices of the stock\n",
    "plt.bar(down.index, down.close-down.open, width, bottom=down.open, color=col2)\n",
    "plt.bar(down.index, down.high-down.open, width2, bottom=down.open, color=col2)\n",
    "plt.bar(down.index, down.low-down.close, width2, bottom=down.close, color=col2)\n",
    "\n",
    "# rotating the x-axis tick labels at 30degree\n",
    "# towards right\n",
    "plt.xticks(rotation=30, ha='right')\n",
    "\n",
    "plt.title(\"Defect Percentage per Line\")\n",
    "\n",
    "plt.xlabel(\"Lines\")\n",
    "plt.ylabel(\"Defect Percentage\")\n",
    "# displaying candlestick chart of stock data\n",
    "# of a week\n",
    "plt.show()\n"
   ]
  },
  {
   "cell_type": "code",
   "execution_count": null,
   "metadata": {},
   "outputs": [],
   "source": []
  }
 ],
 "metadata": {
  "interpreter": {
   "hash": "105bf031e1539442ebaf50dac19d8a613c101a25fa871b0753b32ea1848b7187"
  },
  "kernelspec": {
   "display_name": "Python 3.7.6 ('base')",
   "language": "python",
   "name": "python3"
  },
  "language_info": {
   "codemirror_mode": {
    "name": "ipython",
    "version": 3
   },
   "file_extension": ".py",
   "mimetype": "text/x-python",
   "name": "python",
   "nbconvert_exporter": "python",
   "pygments_lexer": "ipython3",
   "version": "3.7.6"
  },
  "orig_nbformat": 4
 },
 "nbformat": 4,
 "nbformat_minor": 2
}
